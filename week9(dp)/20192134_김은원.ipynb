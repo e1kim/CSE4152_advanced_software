{
  "nbformat": 4,
  "nbformat_minor": 0,
  "metadata": {
    "colab": {
      "provenance": []
    },
    "kernelspec": {
      "name": "python3",
      "display_name": "Python 3"
    },
    "language_info": {
      "name": "python"
    }
  },
  "cells": [
    {
      "cell_type": "code",
      "execution_count": null,
      "metadata": {
        "id": "vzOYX2srMHkk",
        "colab": {
          "base_uri": "https://localhost:8080/"
        },
        "outputId": "63db220e-67d9-4883-b154-8d011e5ce13b"
      },
      "outputs": [
        {
          "output_type": "stream",
          "name": "stdout",
          "text": [
            "password : 5774 입니다.\n"
          ]
        }
      ],
      "source": [
        "# Brute-Frorce Algorithm 예시 - 4자리의 암호로 구성된 자물쇠 풀기 (강의 ppt slide 5)\n",
        "import random\n",
        "\n",
        "password = random.randint(0,9999) # [0, 9999] 중 무작위 int형 변수를 password로 정의\n",
        "\n",
        "for i in range(0,10000):\n",
        "  if password == i:\n",
        "    print(f\"password : {i} 입니다.\")"
      ]
    },
    {
      "cell_type": "code",
      "source": [
        "# Greedy Algorithm 예시 - 거스름돈 주기 2번째 case (강의 ppt slide 8)\n",
        "price = 4100\n",
        "money = 5000\n",
        "change = money - price\n",
        "\n",
        "change_coin = [500, 300, 200, 60, 1]\n",
        "\n",
        "num_of_coins = 0\n",
        "hand_money = 0\n",
        "index = 0\n",
        "\n",
        "while(change!=hand_money):\n",
        "  if hand_money + change_coin[index] > change:\n",
        "    index += 1\n",
        "  else:\n",
        "    hand_money += change_coin[index]\n",
        "    num_of_coins += 1\n",
        "\n",
        "print(num_of_coins)\n",
        "  "
      ],
      "metadata": {
        "id": "LakOgsNvMR3L",
        "colab": {
          "base_uri": "https://localhost:8080/"
        },
        "outputId": "0011574f-b73d-428a-e2ed-73d7afb45216"
      },
      "execution_count": null,
      "outputs": [
        {
          "output_type": "stream",
          "name": "stdout",
          "text": [
            "43\n"
          ]
        }
      ]
    },
    {
      "cell_type": "code",
      "source": [
        "# Dynamic Programming 예시 - 피보나치 수열 구현(강의 ppt slide 11)\n",
        "fibo_num = 7\n",
        "\n",
        "def fib_overlapping_subproblem(n):\n",
        "    if (n <= 2) :\n",
        "      return 1;\n",
        "    else:\n",
        "      return fib_overlapping_subproblem(n-1) + fib_overlapping_subproblem(n-2);\n",
        "\n",
        "fib_overlapping_subproblem(fibo_num)"
      ],
      "metadata": {
        "id": "7YuJXiq3U1-6",
        "colab": {
          "base_uri": "https://localhost:8080/"
        },
        "outputId": "6dcc3ac5-ebdc-4f3d-d324-476fb50558cd"
      },
      "execution_count": null,
      "outputs": [
        {
          "output_type": "execute_result",
          "data": {
            "text/plain": [
              "13"
            ]
          },
          "metadata": {},
          "execution_count": 3
        }
      ]
    },
    {
      "cell_type": "markdown",
      "source": [],
      "metadata": {
        "id": "JJPT2j1rWhzp"
      }
    },
    {
      "cell_type": "code",
      "source": [
        "# Dynamic Programming 예시 - 메모이제이션 (강의 ppt slide 13)\n",
        "memo = [1, 1]\n",
        "\n",
        "def fibo_memo(n):\n",
        "  for i in range(2,n):\n",
        "    memo.append(memo[i-1] + memo[i-2])\n",
        "  return memo[n-1]\n",
        "fibo_memo(7)"
      ],
      "metadata": {
        "id": "laSScZieV32R"
      },
      "execution_count": null,
      "outputs": []
    },
    {
      "cell_type": "code",
      "source": [
        "# 실습 4, Hint : Bit-Masking 예시 (강의 ppt slide 25)\n",
        "switch_states = [True, False, False, True, True, False, False, False, True, True] # 1001100011\n",
        "\n",
        "# 집합을 이진으로 표현함\n",
        "switch_states_with_bit = 0b1001100011 \n",
        "\n",
        "# 인덱스 2를 True로 바꿈\n",
        "n = len(switch_states) - 1 - 2\n",
        "print(bin(switch_states_with_bit | (1 << n))) # 1001100011 | 10000000\n",
        "\n",
        "# 인덱스 3을 False로 바꿈\n",
        "n = len(switch_states) - 1 - 3\n",
        "print(bin(switch_states_with_bit & ~(1 << n)))  # 1001100011 & 0111111\n",
        "\n",
        "# 원소 토글 (켜져있으면 끄고 꺼져있으면 켜기)\n",
        "n = len(switch_states) - 1 - 6\n",
        "print(bin(switch_states_with_bit ^ (1 << n))) # 1001100011 ^ 1000\n"
      ],
      "metadata": {
        "id": "AsHetj9HXcyO"
      },
      "execution_count": null,
      "outputs": []
    },
    {
      "cell_type": "code",
      "source": [
        "# 실습 1 - 팰린드롬(palin)\n",
        "# Brute-Force 알고리즘을 이용하여 word에 문자열을 추가해서 팰린드롬으로 만들 수 있는 가장 짧은 팰린드롬의 길이와 해당 팰린드롬을 반환하는 palindrom_bf 함수를 작성하시오.\n",
        "\n",
        "word = str(input(\"문자열을 입력해주세요 : \"))\n",
        "\n",
        "def palindrom_bf(word):\n",
        "  n = len(word)\n",
        "  s = word[::-1]\n",
        "  palindrom = word\n",
        "  \n",
        "  for i in range(n):\n",
        "    \n",
        "    if (word[i:] == s[:n-i]):\n",
        "      break\n",
        "    else :palindrom = palindrom[:n] + s[n-i-1:n-i] + palindrom[n:]\n",
        "    \n",
        "  return len(palindrom),palindrom\n",
        "\n",
        "\n",
        "\n",
        "palindrom_length, palindrom = palindrom_bf(word)\n",
        "print(f\"팰린드롬에 필요한 문자는 {palindrom}이고 해당 문자의 갯수는 {palindrom_length}개입니다.\")"
      ],
      "metadata": {
        "id": "PxBGoV7vmWNw",
        "colab": {
          "base_uri": "https://localhost:8080/"
        },
        "outputId": "ec7d9ef7-4cfa-4644-ee47-ec31680750fc"
      },
      "execution_count": 22,
      "outputs": [
        {
          "output_type": "stream",
          "name": "stdout",
          "text": [
            "문자열을 입력해주세요 : software\n",
            "팰린드롬에 필요한 문자는 softwarerawtfos이고 해당 문자의 갯수는 15개입니다.\n"
          ]
        }
      ]
    },
    {
      "cell_type": "code",
      "source": [
        "# 실습 2 - 영업사원 A는 판매를 위해 N개 업체와 미팅을 해야하는데 각 회의의 시작 시간과 종료 시간이 입력으로 주어졌을 때, 영업사원 A는 최대한 많은 업체와 미팅을 하려고 한다.\n",
        "# 최대한 많은 업체와 미팅르 하는 경우, 진행될 회의 각각의 시작시간, 종료시간을 출력하시오.\n",
        "# Hint : Greedy 알고리즘을 이용해 문제를 풀어보자\n",
        "\n",
        "N = int(input())\n",
        "times = []\n",
        "for n in range(N) :\n",
        "    times.append(list(map(int, input().split())))\n",
        "\n",
        "\n",
        "# 일찍 끝나는 순서로 정렬\n",
        "\"\"\" Input your code Here \"\"\"\n",
        "times.sort(key=lambda x:(x[1],x[0]))\n",
        "\n",
        "# 같은 end time 내에서 빠른 start time 순으로 정1렬 되어있어야 한다.\n",
        "# [[4, 4], [3, 4], [2, 4]] 의 경우 [4, 4] 만하고 끝나버리기 때문\n",
        "\"\"\" Input your code Here \"\"\"\n",
        "\n",
        "answer = ''\n",
        "end = 0\n",
        "\n",
        "for t in times :\n",
        "    \"\"\" Input your code Here \"\"\"\n",
        "    if end <= t[0]:\n",
        "      end = t[1]\n",
        "      answer +=  \"%d \"%t[0]\n",
        "      answer += \"%d \"%t[1]\n",
        "    \n",
        "\n",
        "print(f\"회의 시작시간 및 종료시간 : \\n{answer}\")"
      ],
      "metadata": {
        "id": "QMPzl6Wsszq_",
        "colab": {
          "base_uri": "https://localhost:8080/"
        },
        "outputId": "e1d917b2-8614-4c05-b8f2-7c4454841863"
      },
      "execution_count": 29,
      "outputs": [
        {
          "output_type": "stream",
          "name": "stdout",
          "text": [
            "6\n",
            "4 9\n",
            "2 3\n",
            "2 9\n",
            "1 5\n",
            "7 9\n",
            "6 10\n",
            "회의 시작시간 및 종료시간 : \n",
            "2 3 4 9 \n"
          ]
        }
      ]
    },
    {
      "cell_type": "code",
      "source": [
        "# 실습 3 - 연속된 수열에서 가장 큰 합 구하기\n",
        "n = int(input(\"N: \"))\n",
        "print(\"수열을 입력해주세요 : \")\n",
        "a = list(map(int, input().split()))\n",
        "\n",
        "sum = [a[0]]\n",
        "\n",
        "\n",
        "for i in range(1,len(a)):\n",
        "    \"\"\" Input your code Here \"\"\"\n",
        "    if (a[i] > sum[i-1] + a[i]):\n",
        "      sum.append(a[i])\n",
        "    else:\n",
        "      sum.append (sum[i-1] + a[i])\n",
        "    \n",
        "print(f\"가장 큰 값은 {max(sum)}입니다.-\")\n"
      ],
      "metadata": {
        "id": "f0BR555TucVs",
        "colab": {
          "base_uri": "https://localhost:8080/"
        },
        "outputId": "c931cf61-e301-4bff-ad6a-cb73abe8d8e0"
      },
      "execution_count": 27,
      "outputs": [
        {
          "output_type": "stream",
          "name": "stdout",
          "text": [
            "N: 7\n",
            "수열을 입력해주세요 : \n",
            "-1 7 -4 8 3 -5 6\n",
            "가장 큰 값은 15입니다.-\n"
          ]
        }
      ]
    },
    {
      "cell_type": "markdown",
      "source": [
        "10 \n",
        "\n",
        "\n",
        "2 1 -4 3 4 -4 6 5 -5 1 \n",
        "\n",
        "\n",
        "5 \n",
        "\n",
        "\n",
        "-1 -2 -3 -4 -5\n",
        "\n",
        "\n",
        "10\n",
        "\n",
        "\n",
        "10 -4 3 1 5 6 -35 12 21 -1"
      ],
      "metadata": {
        "id": "mogX3HNBnegD"
      }
    },
    {
      "cell_type": "code",
      "source": [
        "# 실습 4 - 1부터 N까지 번호가 매겨져 있는 나라들이 있고, 나라들 사이에는 길이 있다.\n",
        "# 이제 한 대학생이 어느 한 나라에서 출발해 N개의 나라를 모두 거쳐 원래의 나라로 돌아오는 순회 여행을 게획하려한다.\n",
        "# 단, 한 번 갔던 나라로는 다시 갈 수 없다. \n",
        "# 이 때, 각 나라 간의 입국심사에 쓰이는 노력(비용)의 양이 다르다.(대칭적이지 않음)\n",
        "# 가장 적은 노력(비용)을 들여 순회 여행을 하려 할 때, 가장 적은 비용을 출력하시오.\n",
        "import time\n",
        "\n",
        "n = int(input(\"N : \"))\n",
        "print(\"각 나라별 필요 노력을 입력해주세요\")\n",
        "cities = [list(map(int, input().split())) for _ in range(n)]\n",
        "VISITED_ALL = (1 << n) - 1\n",
        "\n",
        "cache = [[INF] * (1 << n) for _ in range(n)]\n",
        "INF = float('inf')\n",
        "idx = 1\n",
        "\n",
        "def find_path(last, visited):\n",
        "    \"\"\" Input your code Here \"\"\"\n",
        "    if visited == VISITED_ALL:\n",
        "      if cities[last][0]:\n",
        "        return cities[last][0]\n",
        "      else:\n",
        "        return INF\n",
        "    if cache[last][visited] != INF:\n",
        "      return cache[last][visited]\n",
        "\n",
        "\n",
        "    for i in range(n):\n",
        "      if not cities[last][i] or visited & (1 << i):\n",
        "        continue\n",
        "      cache[last][visited] = min(cache[last][visited], find_path(i, visited | (1 << i)) + cities[last][i])\n",
        "    \n",
        "    return cache[last][visited]\n",
        "\n",
        "start = time.time()\n",
        "print(f\"정답은 {find_path(0, 1 << 0)}이고, 걸린시간은 {time.time()-start}입니다.\")"
      ],
      "metadata": {
        "id": "R7vpXBC_znK-",
        "colab": {
          "base_uri": "https://localhost:8080/"
        },
        "outputId": "7a7b6361-9981-4e03-b3e8-81e58414269b"
      },
      "execution_count": 28,
      "outputs": [
        {
          "output_type": "stream",
          "name": "stdout",
          "text": [
            "N : 5\n",
            "각 나라별 필요 노력을 입력해주세요\n",
            "0 5 2 9 5\n",
            "1 0 1 3 2\n",
            "15 11 0 13 8\n",
            "10 11 6 0 19\n",
            "4 3 4 5 0\n",
            "정답은 26이고, 걸린시간은 0.00013184547424316406입니다.\n"
          ]
        }
      ]
    },
    {
      "cell_type": "code",
      "source": [],
      "metadata": {
        "id": "eX9exVkHFPOC"
      },
      "execution_count": null,
      "outputs": []
    }
  ]
}